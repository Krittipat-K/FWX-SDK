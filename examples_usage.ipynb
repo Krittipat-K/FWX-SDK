{
 "cells": [
  {
   "cell_type": "markdown",
   "id": "bdc5a174",
   "metadata": {},
   "source": [
    "# FWX-SDK Usage Example\n",
    "This notebook demonstrates how to use the key functions in the FWX-SDK."
   ]
  },
  {
   "cell_type": "code",
   "execution_count": null,
   "id": "de7deab7",
   "metadata": {},
   "outputs": [],
   "source": [
    "from fwx.perp import FWXPerpSDK,get_raw_pyth_data\n",
    "from web3 import Web3\n",
    "from fwx.w3 import get_rpc_detail\n",
    "from fwx.constant import (\n",
    "    FWX_MEMBERSHIP_ADDRESS_BASE,\n",
    "    FWX_PERP_CORE_ADDRESS_BASE,\n",
    "    FWX_PERP_HELPER_ADDRESS_BASE,\n",
    "    PYTH_ID\n",
    ")\n",
    "\n",
    "rpc = \"https://1rpc.io/base\"  # Replace with your actual RPC URL\n",
    "w3 = Web3(Web3.HTTPProvider(rpc))\n",
    "rpc_detail = get_rpc_detail(rpc)\n",
    "\n",
    "usdc_base_address = rpc_detail.chain_detail.token_details['USDC'].address\n",
    "btc_base_address = rpc_detail.chain_detail.token_details['BTC'].address\n",
    "from dotenv import load_dotenv\n",
    "load_dotenv()\n",
    "import os\n",
    "private_key = os.getenv(\"PRIVATE_KEY\", \"0x...\")  # Replace with your actual private key\n",
    "\n",
    "sdk = FWXPerpSDK(\n",
    "    w3=w3,\n",
    "    rpc_detail=rpc_detail,\n",
    "    private_key=private_key,\n",
    "    membership_address=FWX_MEMBERSHIP_ADDRESS_BASE,\n",
    "    perp_core_address=FWX_PERP_CORE_ADDRESS_BASE,\n",
    "    helper_address=FWX_PERP_HELPER_ADDRESS_BASE,\n",
    "    usdc_address=usdc_base_address,\n",
    ")\n"
   ]
  },
  {
   "cell_type": "markdown",
   "id": "0ef678c0",
   "metadata": {},
   "source": [
    "## 🎫 Mint NFT ID"
   ]
  },
  {
   "cell_type": "code",
   "execution_count": 2,
   "id": "b52ecea1",
   "metadata": {},
   "outputs": [
    {
     "data": {
      "text/plain": [
       "69817"
      ]
     },
     "execution_count": 2,
     "metadata": {},
     "output_type": "execute_result"
    }
   ],
   "source": [
    "sdk.get_nft_id(referal_id=0)\n",
    "sdk.nft_id"
   ]
  },
  {
   "cell_type": "markdown",
   "id": "5d3e81fc",
   "metadata": {},
   "source": [
    "## 💰 Get Perp Balance"
   ]
  },
  {
   "cell_type": "code",
   "execution_count": null,
   "id": "acc32322",
   "metadata": {},
   "outputs": [],
   "source": [
    "balance = sdk.get_perp_balance()\n",
    "balance"
   ]
  },
  {
   "cell_type": "markdown",
   "id": "104122c7",
   "metadata": {},
   "source": [
    "## 📌 Get All Positions"
   ]
  },
  {
   "cell_type": "code",
   "execution_count": null,
   "id": "7b5aee35",
   "metadata": {},
   "outputs": [],
   "source": [
    "positions = sdk.get_all_positions()\n",
    "positions"
   ]
  },
  {
   "cell_type": "markdown",
   "id": "212e7e6c",
   "metadata": {},
   "source": [
    "## 💸 Deposit Collateral in Wei"
   ]
  },
  {
   "cell_type": "code",
   "execution_count": null,
   "id": "f182a294",
   "metadata": {},
   "outputs": [],
   "source": [
    "sdk.deposit_collateral_in_wei(\n",
    "    amount=10_000_000,  # 10 USDC in wei (mwei)\n",
    "    underlying_address=btc_base_address\n",
    ")"
   ]
  },
  {
   "cell_type": "code",
   "execution_count": null,
   "id": "26039faa",
   "metadata": {},
   "outputs": [],
   "source": [
    "balance = sdk.get_perp_balance()\n",
    "balance"
   ]
  },
  {
   "cell_type": "markdown",
   "id": "d00e8f58",
   "metadata": {},
   "source": [
    "## 💸 Deposit Collateral (Async)"
   ]
  },
  {
   "cell_type": "code",
   "execution_count": null,
   "id": "ae626ab6",
   "metadata": {},
   "outputs": [],
   "source": [
    "sdk.deposit_collateral(\n",
    "    amount=10,  # 100 USDC\n",
    "    underlying_address=btc_base_address,\n",
    ")"
   ]
  },
  {
   "cell_type": "markdown",
   "id": "a05cc157",
   "metadata": {},
   "source": [
    "## 📏 Get Max Contract Size"
   ]
  },
  {
   "cell_type": "code",
   "execution_count": null,
   "id": "031ac4be",
   "metadata": {},
   "outputs": [],
   "source": [
    "raw_pyth_data = get_raw_pyth_data([PYTH_ID['BTC'],PYTH_ID['USDC']])\n",
    "max_size = sdk.get_max_contract_size(\n",
    "    underlying_address=btc_base_address,\n",
    "    raw_pyth_data=raw_pyth_data,\n",
    "    is_new_long=True,\n",
    "    leverage=30,\n",
    ")\n",
    "max_size"
   ]
  },
  {
   "cell_type": "markdown",
   "id": "b5122ae6",
   "metadata": {},
   "source": [
    "## 📈 Open Position (Size in Wei)"
   ]
  },
  {
   "cell_type": "code",
   "execution_count": 3,
   "id": "848ab812",
   "metadata": {},
   "outputs": [
    {
     "name": "stderr",
     "output_type": "stream",
     "text": [
      "INFO:root:Max contract size: 3231951953436652\n"
     ]
    },
    {
     "data": {
      "text/plain": [
       "HexBytes('0xb0b0b9ac42e4201d446058fe099420481869ed8d96df4839a143e7684fa23759')"
      ]
     },
     "execution_count": 3,
     "metadata": {},
     "output_type": "execute_result"
    }
   ],
   "source": [
    "raw_pyth_data = get_raw_pyth_data([PYTH_ID['BTC'],PYTH_ID['USDC']])\n",
    "sdk.open_position_given_contract_size_in_wei(\n",
    "    is_long=True,\n",
    "    is_new_long=True,\n",
    "    contract_size=2_000_000_000_000_000,  # 0.001 BTC in wei\n",
    "    leverage=20,\n",
    "    underlying_address=btc_base_address,\n",
    "    raw_pyth_data=raw_pyth_data,\n",
    ")"
   ]
  },
  {
   "cell_type": "markdown",
   "id": "fc61d40a",
   "metadata": {},
   "source": [
    "## 📊 Get Contract Size from Volume"
   ]
  },
  {
   "cell_type": "code",
   "execution_count": 7,
   "id": "f6c2426b",
   "metadata": {},
   "outputs": [
    {
     "data": {
      "text/plain": [
       "0.0008417272239883219"
      ]
     },
     "execution_count": 7,
     "metadata": {},
     "output_type": "execute_result"
    }
   ],
   "source": [
    "raw_pyth_data = get_raw_pyth_data([PYTH_ID['BTC'],PYTH_ID['USDC']])\n",
    "contract_size = sdk.get_contract_size_given_volumn(\n",
    "    volume=100,\n",
    "    underlying_symbol=\"BTC\",\n",
    "    raw_pyth_data=raw_pyth_data\n",
    ")\n",
    "contract_size"
   ]
  },
  {
   "cell_type": "markdown",
   "id": "152e71eb",
   "metadata": {},
   "source": [
    "## 🟢 Open Position (Contract Size in Float)"
   ]
  },
  {
   "cell_type": "code",
   "execution_count": null,
   "id": "a790bc67",
   "metadata": {},
   "outputs": [
    {
     "name": "stderr",
     "output_type": "stream",
     "text": [
      "INFO:root:Max contract size: 2950573675499427\n"
     ]
    },
    {
     "data": {
      "text/plain": [
       "HexBytes('0x36312f7209765b79c828ed5b28730b8cfa660b4d1498f5ef77ad71dff9cc593d')"
      ]
     },
     "execution_count": 12,
     "metadata": {},
     "output_type": "execute_result"
    }
   ],
   "source": [
    "raw_pyth_data = get_raw_pyth_data([PYTH_ID['BTC'],PYTH_ID['USDC']])\n",
    "sdk.open_position_given_contract_size(\n",
    "    is_long=True,\n",
    "    contract_size=0.0003,\n",
    "    leverage=20,\n",
    "    underlying_address=btc_base_address,\n",
    "    raw_pyth_data=raw_pyth_data,\n",
    "    is_new_long=True\n",
    ")"
   ]
  },
  {
   "cell_type": "markdown",
   "id": "3812ecd7",
   "metadata": {},
   "source": [
    "## 🟢 Open Position (Given USD Volume)"
   ]
  },
  {
   "cell_type": "code",
   "execution_count": null,
   "id": "7e218cd1",
   "metadata": {},
   "outputs": [
    {
     "name": "stderr",
     "output_type": "stream",
     "text": [
      "INFO:root:Max contract size: 3112664557914004\n"
     ]
    },
    {
     "data": {
      "text/plain": [
       "HexBytes('0xbc2892d7f74da8cf5af344929d7b44a705b5be7e5c4105367c5a54af61cae40b')"
      ]
     },
     "execution_count": 16,
     "metadata": {},
     "output_type": "execute_result"
    }
   ],
   "source": [
    "raw_pyth_data = get_raw_pyth_data([PYTH_ID['BTC'],PYTH_ID['USDC']])\n",
    "sdk.open_position_given_volumn(\n",
    "    is_long=True,\n",
    "    volume=20,\n",
    "    leverage=20,\n",
    "    underlying_address=btc_base_address,\n",
    "    raw_pyth_data=raw_pyth_data,\n",
    "    is_new_long=True\n",
    ")"
   ]
  },
  {
   "cell_type": "markdown",
   "id": "8de8b006",
   "metadata": {},
   "source": [
    "## 🔻 Close Position"
   ]
  },
  {
   "cell_type": "code",
   "execution_count": 17,
   "id": "2e53e166",
   "metadata": {},
   "outputs": [
    {
     "data": {
      "text/plain": [
       "[FWXPerpHelperGetAllPositionRespond(pos_id=3, is_long=True, collateral_address='0x833589fCD6eDb6E08f4c7C32D4f71b54bdA02913', underlying_address='0x604BB4C1969337EE6d016b21F2a76F0E83a1Faa3', entry_price=118833661806344277615668, current_price=118774132958990000000000, contract_size=168389902981062, collateral_swapped_amount=1000519439122732290, liquidation_price=7011240460466153620448, pnl=-14737408915183356, roe=-1472975770276417298, margin=93937818324028024697, leverage=20000000000000000000, tp_price=0, sl_price=0)]"
      ]
     },
     "execution_count": 17,
     "metadata": {},
     "output_type": "execute_result"
    }
   ],
   "source": [
    "positions = sdk.get_all_positions()\n",
    "positions"
   ]
  },
  {
   "cell_type": "code",
   "execution_count": 18,
   "id": "087bee39",
   "metadata": {},
   "outputs": [
    {
     "data": {
      "text/plain": [
       "HexBytes('0x87d253584342d6f06c9b90c0a6ad63345aae86e564fb7cf85f40a65a5db992a5')"
      ]
     },
     "execution_count": 18,
     "metadata": {},
     "output_type": "execute_result"
    }
   ],
   "source": [
    "raw_pyth_data = get_raw_pyth_data([PYTH_ID['BTC'],PYTH_ID['USDC']])\n",
    "sdk.close_position_with_pos_id(\n",
    "    raw_pyth_data=raw_pyth_data,\n",
    "    nft_id=sdk.nft_id,\n",
    "    pos_id=3,\n",
    "    closing_size=500_000_000_000_000_000,\n",
    ")"
   ]
  }
 ],
 "metadata": {
  "kernelspec": {
   "display_name": "fwx",
   "language": "python",
   "name": "python3"
  },
  "language_info": {
   "codemirror_mode": {
    "name": "ipython",
    "version": 3
   },
   "file_extension": ".py",
   "mimetype": "text/x-python",
   "name": "python",
   "nbconvert_exporter": "python",
   "pygments_lexer": "ipython3",
   "version": "3.8.20"
  }
 },
 "nbformat": 4,
 "nbformat_minor": 5
}
